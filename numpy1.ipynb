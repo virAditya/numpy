{
 "cells": [
  {
   "cell_type": "markdown",
   "id": "b219abb4",
   "metadata": {},
   "source": [
    "## Numpy Array and Basics \n",
    "\n",
    "Learn about Numpy"
   ]
  },
  {
   "cell_type": "code",
   "execution_count": 3,
   "id": "4d227f27",
   "metadata": {},
   "outputs": [],
   "source": [
    "import numpy as np"
   ]
  },
  {
   "cell_type": "markdown",
   "id": "b411bae1",
   "metadata": {},
   "source": [
    "## Creating Array from List"
   ]
  },
  {
   "cell_type": "code",
   "execution_count": 7,
   "id": "d04bfde9",
   "metadata": {},
   "outputs": [
    {
     "name": "stdout",
     "output_type": "stream",
     "text": [
      "1-D Array :  [1 2 3 4 5]\n",
      "2-D Array :  [[1 2 3]\n",
      " [4 5 6]]\n"
     ]
    }
   ],
   "source": [
    "arr_1d = np.array([1,2,3,4,5])\n",
    "print(\"1-D Array : \",arr_1d)\n",
    "\n",
    "arr_2d = np.array([[1,2,3],[4,5,6]])\n",
    "print(\"2-D Array : \", arr_2d)\n"
   ]
  },
  {
   "cell_type": "markdown",
   "id": "a056cfea",
   "metadata": {},
   "source": [
    "## List versus Numpy"
   ]
  },
  {
   "cell_type": "code",
   "execution_count": 26,
   "id": "09e81e6f",
   "metadata": {},
   "outputs": [
    {
     "name": "stdout",
     "output_type": "stream",
     "text": [
      "Python List Multiplication :  [1, 2, 3, 1, 2, 3]\n",
      "Python Array Multiplication :  [2 4 6]\n",
      "\n",
      " List Operation Time :  0.054704904556274414\n",
      "\n",
      " Numpy Operation Time :  0.0039899349212646484\n"
     ]
    }
   ],
   "source": [
    "py_list = [1,2,3]\n",
    "print(\"Python List Multiplication : \", py_list * 2)\n",
    "np_array = np.array([1,2,3])  ## Element Wise multiplication\n",
    "print(\"Python Array Multiplication : \", np_array * 2)\n",
    "\n",
    "import time\n",
    "start = time.time()\n",
    "py_list = [i*2 for i in range(1000000)]\n",
    "print(\"\\n List Operation Time : \", time.time() - start)\n",
    "\n",
    "start = time.time()\n",
    "np_array = np.arange(1000000) * 2\n",
    "print(\"\\n Numpy Operation Time : \", time.time() - start)\n"
   ]
  },
  {
   "cell_type": "markdown",
   "id": "53e1a524",
   "metadata": {},
   "source": [
    "### Creating Array from Scratch "
   ]
  },
  {
   "cell_type": "code",
   "execution_count": 27,
   "id": "19a10973",
   "metadata": {},
   "outputs": [
    {
     "name": "stdout",
     "output_type": "stream",
     "text": [
      "Zeros Array : \n",
      " [[0. 0. 0. 0. 0.]\n",
      " [0. 0. 0. 0. 0.]\n",
      " [0. 0. 0. 0. 0.]]\n"
     ]
    }
   ],
   "source": [
    "zeros = np.zeros((3,5))\n",
    "print(\"Zeros Array : \\n\",zeros)"
   ]
  },
  {
   "cell_type": "code",
   "execution_count": 28,
   "id": "ee4a2a01",
   "metadata": {},
   "outputs": [
    {
     "name": "stdout",
     "output_type": "stream",
     "text": [
      "Ones Array : \n",
      " [[1. 1. 1. ... 1. 1. 1.]\n",
      " [1. 1. 1. ... 1. 1. 1.]\n",
      " [1. 1. 1. ... 1. 1. 1.]\n",
      " ...\n",
      " [1. 1. 1. ... 1. 1. 1.]\n",
      " [1. 1. 1. ... 1. 1. 1.]\n",
      " [1. 1. 1. ... 1. 1. 1.]]\n"
     ]
    }
   ],
   "source": [
    "ones = np.ones((34,438))\n",
    "print(\"Ones Array : \\n\", ones)"
   ]
  },
  {
   "cell_type": "code",
   "execution_count": 29,
   "id": "c7050dcc",
   "metadata": {},
   "outputs": [
    {
     "name": "stdout",
     "output_type": "stream",
     "text": [
      "Full Array : \n",
      " [[7 7]\n",
      " [7 7]]\n"
     ]
    }
   ],
   "source": [
    "full = np.full((2,2), 7)\n",
    "print(\"Full Array : \\n\", full)"
   ]
  },
  {
   "cell_type": "code",
   "execution_count": 30,
   "id": "2b61e2f4",
   "metadata": {},
   "outputs": [
    {
     "name": "stdout",
     "output_type": "stream",
     "text": [
      "[[0.25364823 0.42159904 0.81862569]\n",
      " [0.07186865 0.96369878 0.69988304]]\n"
     ]
    }
   ],
   "source": [
    "### Most used, RANDOM ARRAY \n",
    "random = np.random.random((2,3))\n",
    "print(random)"
   ]
  },
  {
   "cell_type": "code",
   "execution_count": 31,
   "id": "51aee28e",
   "metadata": {},
   "outputs": [
    {
     "name": "stdout",
     "output_type": "stream",
     "text": [
      "[  0   1   2   3   4   5   6   7   8   9  10  11  12  13  14  15  16  17\n",
      "  18  19  20  21  22  23  24  25  26  27  28  29  30  31  32  33  34  35\n",
      "  36  37  38  39  40  41  42  43  44  45  46  47  48  49  50  51  52  53\n",
      "  54  55  56  57  58  59  60  61  62  63  64  65  66  67  68  69  70  71\n",
      "  72  73  74  75  76  77  78  79  80  81  82  83  84  85  86  87  88  89\n",
      "  90  91  92  93  94  95  96  97  98  99 100 101 102 103 104 105 106 107\n",
      " 108 109 110 111 112 113 114 115 116 117 118 119 120]\n",
      "[0 2 4 6 8]\n"
     ]
    }
   ],
   "source": [
    "## Sequence \n",
    "sequence = np.arange(0,121,1)\n",
    "sequence_1 = np.arange(start=0, stop=10, step=2)\n",
    "print(sequence)\n",
    "print(sequence_1)"
   ]
  },
  {
   "cell_type": "markdown",
   "id": "5b92aadf",
   "metadata": {},
   "source": [
    "#### VECTOR, MATRIX AND TENSOR"
   ]
  },
  {
   "cell_type": "code",
   "execution_count": 32,
   "id": "546d960c",
   "metadata": {},
   "outputs": [
    {
     "name": "stdout",
     "output_type": "stream",
     "text": [
      "Vector :  [1 2 3 4]\n",
      "Matrix :  [[1 2 3]\n",
      " [4 5 6]]\n",
      "Tensor :  [[[1 2]\n",
      "  [3 4]]\n",
      "\n",
      " [[5 6]\n",
      "  [7 8]]]\n"
     ]
    }
   ],
   "source": [
    "## Vector \n",
    "vector = np.array([1,2,3,4])\n",
    "print(\"Vector : \", vector)\n",
    "\n",
    "## Matrix\n",
    "matrix = np.array([[1,2,3],\n",
    "                   [4,5,6]])\n",
    "print(\"Matrix : \", matrix)\n",
    "\n",
    "## Tensor\n",
    "tensor = np.array([[[1,2],[3,4]],\n",
    "                   [[5,6],[7,8]]])\n",
    "print(\"Tensor : \",tensor)"
   ]
  },
  {
   "cell_type": "markdown",
   "id": "bedba3dc",
   "metadata": {},
   "source": [
    "### Properties of Arrays (not lists) in Python"
   ]
  },
  {
   "cell_type": "code",
   "execution_count": null,
   "id": "0c206792",
   "metadata": {},
   "outputs": [
    {
     "name": "stdout",
     "output_type": "stream",
     "text": [
      "Shape :  (2, 3)\n",
      "Dimension :  2\n",
      "Size :  6\n",
      "Dtype :  int32\n"
     ]
    }
   ],
   "source": [
    "# Initialize an array\n",
    "arr = np.array([[1,2,3],\n",
    "                [4,5,6]])\n",
    "\n",
    "## PROPERTY 1 --> Shape\n",
    "print(\"Shape : \", arr.shape)\n",
    "## PROPERTY 2 --> Dimension\n",
    "print(\"Dimension : \", arr.ndim)\n",
    "## PROPERTY 3 --> Size\n",
    "print(\"Size : \", arr.size) # Total number of elements in the array \n",
    "## PROPERTY 4 --> Data Type\n",
    "print(\"Dtype : \", arr.dtype)\n"
   ]
  },
  {
   "cell_type": "markdown",
   "id": "fd9c5171",
   "metadata": {},
   "source": [
    "## Array Reshaping"
   ]
  },
  {
   "cell_type": "code",
   "execution_count": null,
   "id": "70c4d807",
   "metadata": {},
   "outputs": [
    {
     "name": "stdout",
     "output_type": "stream",
     "text": [
      "Original Array :  [ 0  1  2  3  4  5  6  7  8  9 10 11]\n",
      "Reshaped Array :  [[ 0  1  2  3]\n",
      " [ 4  5  6  7]\n",
      " [ 8  9 10 11]]\n",
      "Flattened Array :  [ 0  1  2  3  4  5  6  7  8  9 10 11]\n",
      "Raveled Array :  [ 0  1  2  3  4  5  6  7  8  9 10 11]\n",
      "Transposed Array :  [[ 0  4  8]\n",
      " [ 1  5  9]\n",
      " [ 2  6 10]\n",
      " [ 3  7 11]]\n"
     ]
    }
   ],
   "source": [
    "arr = np.arange(12)\n",
    "print(\"Original Array : \", arr)\n",
    "\n",
    "## Reshaping \n",
    "reshaped = arr.reshape((3,4)) ## If I will try to put in (3,5) , I get an error\n",
    "print(\"Reshaped Array : \", reshaped)\n",
    "\n",
    "## Flattening \n",
    "flattened = reshaped.flatten() ## \n",
    "print(\"Flattened Array : \", flattened)\n",
    "\n",
    "## Raveled \n",
    "raveled = reshaped.ravel()#.ravel() returns VIEW (Original Array) instead of COPY\n",
    "print(\"Raveled Array : \", raveled)\n",
    "\n",
    "## Transpose \n",
    "transpose = reshaped.T \n",
    "print(\"Transposed Array : \", transpose)"
   ]
  },
  {
   "cell_type": "code",
   "execution_count": null,
   "id": "51db4559",
   "metadata": {},
   "outputs": [],
   "source": []
  }
 ],
 "metadata": {
  "kernelspec": {
   "display_name": "Python 3",
   "language": "python",
   "name": "python3"
  },
  "language_info": {
   "codemirror_mode": {
    "name": "ipython",
    "version": 3
   },
   "file_extension": ".py",
   "mimetype": "text/x-python",
   "name": "python",
   "nbconvert_exporter": "python",
   "pygments_lexer": "ipython3",
   "version": "3.11.1"
  }
 },
 "nbformat": 4,
 "nbformat_minor": 5
}
