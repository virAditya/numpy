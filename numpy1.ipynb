{
 "cells": [
  {
   "cell_type": "markdown",
   "id": "b219abb4",
   "metadata": {},
   "source": [
    "## Numpy Array and Basics \n",
    "\n",
    "Learn about Numpy"
   ]
  },
  {
   "cell_type": "code",
   "execution_count": 2,
   "id": "4d227f27",
   "metadata": {},
   "outputs": [],
   "source": [
    "import numpy as np"
   ]
  },
  {
   "cell_type": "markdown",
   "id": "b411bae1",
   "metadata": {},
   "source": [
    "## Creating Array from List"
   ]
  },
  {
   "cell_type": "code",
   "execution_count": 7,
   "id": "d04bfde9",
   "metadata": {},
   "outputs": [
    {
     "name": "stdout",
     "output_type": "stream",
     "text": [
      "1-D Array :  [1 2 3 4 5]\n",
      "2-D Array :  [[1 2 3]\n",
      " [4 5 6]]\n"
     ]
    }
   ],
   "source": [
    "arr_1d = np.array([1,2,3,4,5])\n",
    "print(\"1-D Array : \",arr_1d)\n",
    "\n",
    "arr_2d = np.array([[1,2,3],[4,5,6]])\n",
    "print(\"2-D Array : \", arr_2d)\n"
   ]
  },
  {
   "cell_type": "markdown",
   "id": "a056cfea",
   "metadata": {},
   "source": [
    "## List versus Numpy"
   ]
  },
  {
   "cell_type": "code",
   "execution_count": 12,
   "id": "09e81e6f",
   "metadata": {},
   "outputs": [
    {
     "name": "stdout",
     "output_type": "stream",
     "text": [
      "Python List Multiplication :  [1, 2, 3, 1, 2, 3]\n",
      "Python Array Multiplication :  [2 4 6]\n",
      "\n",
      " List Operation Time :  0.08180761337280273\n",
      "\n",
      " Numpy Operation Time :  0.0019388198852539062\n"
     ]
    }
   ],
   "source": [
    "py_list = [1,2,3]\n",
    "print(\"Python List Multiplication : \", py_list * 2)\n",
    "np_array = np.array([1,2,3])  ## Element Wise multiplication\n",
    "print(\"Python Array Multiplication : \", np_array * 2)\n",
    "\n",
    "import time\n",
    "start = time.time()\n",
    "py_list = [i*2 for i in range(1000000)]\n",
    "print(\"\\n List Operation Time : \", time.time() - start)\n",
    "\n",
    "start = time.time()\n",
    "np_array = np.arange(1000000) * 2\n",
    "print(\"\\n Numpy Operation Time : \", time.time() - start)\n"
   ]
  },
  {
   "cell_type": "markdown",
   "id": "53e1a524",
   "metadata": {},
   "source": [
    "### Creating Array from Scratch "
   ]
  },
  {
   "cell_type": "code",
   "execution_count": 13,
   "id": "19a10973",
   "metadata": {},
   "outputs": [
    {
     "name": "stdout",
     "output_type": "stream",
     "text": [
      "Zeros Array : \n",
      " [[0. 0. 0. 0. 0.]\n",
      " [0. 0. 0. 0. 0.]\n",
      " [0. 0. 0. 0. 0.]]\n"
     ]
    }
   ],
   "source": [
    "zeros = np.zeros((3,5))\n",
    "print(\"Zeros Array : \\n\",zeros)"
   ]
  },
  {
   "cell_type": "code",
   "execution_count": 14,
   "id": "ee4a2a01",
   "metadata": {},
   "outputs": [
    {
     "name": "stdout",
     "output_type": "stream",
     "text": [
      "Ones Array : \n",
      " [[1. 1. 1. ... 1. 1. 1.]\n",
      " [1. 1. 1. ... 1. 1. 1.]\n",
      " [1. 1. 1. ... 1. 1. 1.]\n",
      " ...\n",
      " [1. 1. 1. ... 1. 1. 1.]\n",
      " [1. 1. 1. ... 1. 1. 1.]\n",
      " [1. 1. 1. ... 1. 1. 1.]]\n"
     ]
    }
   ],
   "source": [
    "ones = np.ones((34,438))\n",
    "print(\"Ones Array : \\n\", ones)"
   ]
  },
  {
   "cell_type": "code",
   "execution_count": 15,
   "id": "c7050dcc",
   "metadata": {},
   "outputs": [
    {
     "name": "stdout",
     "output_type": "stream",
     "text": [
      "Full Array : \n",
      " [[7 7]\n",
      " [7 7]]\n"
     ]
    }
   ],
   "source": [
    "full = np.full((2,2), 7)\n",
    "print(\"Full Array : \\n\", full)"
   ]
  },
  {
   "cell_type": "code",
   "execution_count": null,
   "id": "2b61e2f4",
   "metadata": {},
   "outputs": [],
   "source": [
    "### Most used, RANDOM ARRAY \n",
    "random = np.random.random()"
   ]
  }
 ],
 "metadata": {
  "kernelspec": {
   "display_name": "Python 3",
   "language": "python",
   "name": "python3"
  },
  "language_info": {
   "codemirror_mode": {
    "name": "ipython",
    "version": 3
   },
   "file_extension": ".py",
   "mimetype": "text/x-python",
   "name": "python",
   "nbconvert_exporter": "python",
   "pygments_lexer": "ipython3",
   "version": "3.11.1"
  }
 },
 "nbformat": 4,
 "nbformat_minor": 5
}
