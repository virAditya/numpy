{
 "cells": [
  {
   "cell_type": "markdown",
   "id": "9b3ee75d",
   "metadata": {},
   "source": [
    "## Advanced Operations with Business Examples "
   ]
  },
  {
   "cell_type": "code",
   "execution_count": null,
   "id": "f1b31577",
   "metadata": {},
   "outputs": [],
   "source": [
    "# Data Structure : [restaurant_id, 2021, 2022, 2023, 2024]\n",
    "\n",
    "sales_data = np.array([\n",
    "    [1, 150000, 180000, 220000, 250000], \n",
    "    [2, ],\n",
    "    [3, ],\n",
    "    [4, ],\n",
    "    [5, ]\n",
    "])"
   ]
  }
 ],
 "metadata": {
  "language_info": {
   "name": "python"
  }
 },
 "nbformat": 4,
 "nbformat_minor": 5
}
