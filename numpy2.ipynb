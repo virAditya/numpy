{
 "cells": [
  {
   "cell_type": "markdown",
   "id": "fc5158bc",
   "metadata": {},
   "source": [
    "## Numpy Array Operations "
   ]
  },
  {
   "cell_type": "code",
   "execution_count": 1,
   "id": "4f81cdf0",
   "metadata": {},
   "outputs": [],
   "source": [
    "import numpy as np"
   ]
  },
  {
   "cell_type": "code",
   "execution_count": 3,
   "id": "f651f138",
   "metadata": {},
   "outputs": [
    {
     "name": "stdout",
     "output_type": "stream",
     "text": [
      "Basic Slicing :  [3 4 5 6 7]\n",
      "With step :  [2 4 6 8]\n",
      "Negative Indexing :  8\n"
     ]
    }
   ],
   "source": [
    "## Indexing \n",
    "arr = np.array([1,2,3,4,5,6,7,8,9,10])\n",
    "print(\"Basic Slicing : \", arr[2 : 7])\n",
    "print(\"With step : \", arr[1:8:2])\n",
    "print(\"Negative Indexing : \", arr[-3])"
   ]
  },
  {
   "cell_type": "code",
   "execution_count": 8,
   "id": "4adf32ef",
   "metadata": {},
   "outputs": [
    {
     "name": "stdout",
     "output_type": "stream",
     "text": [
      "Specific Element :  6\n",
      "Entire 1st Row :  [4 5 6]\n",
      "Entire 3nd Column [3 6 9]\n"
     ]
    }
   ],
   "source": [
    "## Indexing in 2-d Matrices\n",
    "arr_2d = np.array([[1,2,3],\n",
    "                   [4,5,6],\n",
    "                   [7,8,9]])\n",
    "print(\"Specific Element : \", arr_2d[1,2])  #[row, column]\n",
    "print(\"Entire 1st Row : \", arr_2d[1]) \n",
    "print(\"Entire 3nd Column\", arr_2d[:,2])"
   ]
  },
  {
   "cell_type": "markdown",
   "id": "0352f271",
   "metadata": {},
   "source": [
    "## Sorting "
   ]
  },
  {
   "cell_type": "code",
   "execution_count": null,
   "id": "98a0541f",
   "metadata": {},
   "outputs": [
    {
     "name": "stdout",
     "output_type": "stream",
     "text": [
      "Sorted Array  :  [ 0  1  2  3  4 12 13 21 32 76]\n"
     ]
    }
   ],
   "source": [
    "## Basic 1-D Array Sorting\n",
    "unsorted = np.array([1,4,2,3,76,32,21,12,13,0])\n",
    "print(\"Sorted Array  : \", np.sort(unsorted))\n"
   ]
  },
  {
   "cell_type": "code",
   "execution_count": 12,
   "id": "4f9a5648",
   "metadata": {},
   "outputs": [
    {
     "name": "stdout",
     "output_type": "stream",
     "text": [
      "Sorted 2-D Array by Column :  [[1 1]\n",
      " [2 2]\n",
      " [3 3]]\n",
      "Sorted 2-D Array by Row :  [[1 3]\n",
      " [1 2]\n",
      " [2 3]]\n"
     ]
    }
   ],
   "source": [
    "## 2-D Unsorted \n",
    "arr_2d_unsorted = np.array([[3,1] ,[1,2], [2, 3]])\n",
    "print(\"Sorted 2-D Array by Column : \", np.sort(arr_2d_unsorted, axis = 0))\n",
    "print(\"Sorted 2-D Array by Row : \", np.sort(arr_2d_unsorted, axis = 1))"
   ]
  },
  {
   "cell_type": "markdown",
   "id": "4b8cf618",
   "metadata": {},
   "source": [
    "## Filtering "
   ]
  },
  {
   "cell_type": "code",
   "execution_count": 15,
   "id": "eadcaa79",
   "metadata": {},
   "outputs": [
    {
     "name": "stdout",
     "output_type": "stream",
     "text": [
      "Even Numbers :  [ 2  4  6  8 10]\n"
     ]
    }
   ],
   "source": [
    "numbers = np.array([1,2,3,4,5,6,7,8,9,10])\n",
    "even_number = numbers[numbers % 2 == 0]  \n",
    "## Numpy allow us to write expressions which can be evaluated inside the array index\n",
    "print(\"Even Numbers : \", even_number)"
   ]
  },
  {
   "cell_type": "markdown",
   "id": "8b6975c1",
   "metadata": {},
   "source": [
    "## Filtering with Mask "
   ]
  },
  {
   "cell_type": "code",
   "execution_count": 17,
   "id": "2bc803be",
   "metadata": {},
   "outputs": [
    {
     "name": "stdout",
     "output_type": "stream",
     "text": [
      "Numbers greater than 5 :  [ 6  7  8  9 10]\n"
     ]
    }
   ],
   "source": [
    "mask = numbers > 5\n",
    "print(\"Numbers greater than 5 : \", numbers[mask])"
   ]
  },
  {
   "cell_type": "markdown",
   "id": "0c7d8d01",
   "metadata": {},
   "source": [
    "## Fancy Indexing versus np.where()"
   ]
  },
  {
   "cell_type": "code",
   "execution_count": 19,
   "id": "40d901ee",
   "metadata": {},
   "outputs": [
    {
     "name": "stdout",
     "output_type": "stream",
     "text": [
      "[1 3 5]\n",
      "NP Where :  [ 6  7  8  9 10]\n"
     ]
    }
   ],
   "source": [
    "indices = [0,2,4]\n",
    "print(numbers[indices])\n",
    "\n",
    "## Where Clause\n",
    "where_result = np.where(numbers > 5)\n",
    "print(\"NP Where : \", numbers[where_result])\n"
   ]
  },
  {
   "cell_type": "code",
   "execution_count": null,
   "id": "2808029a",
   "metadata": {},
   "outputs": [
    {
     "name": "stdout",
     "output_type": "stream",
     "text": [
      "[ 1  2  3  4  5 30 35 40 45 50]\n"
     ]
    }
   ],
   "source": [
    "condition_Array = np.where(numbers > 5, numbers*5, numbers) ## Similar to Ternary Operator\n",
    "## np.where(CONDITION, True -- > Operation, False -- > Operation)\n",
    "\n",
    "print(condition_Array)"
   ]
  },
  {
   "cell_type": "markdown",
   "id": "fe3deda7",
   "metadata": {},
   "source": [
    "## Adding and Removing Data"
   ]
  },
  {
   "cell_type": "code",
   "execution_count": 25,
   "id": "fd2d1ba2",
   "metadata": {},
   "outputs": [
    {
     "name": "stdout",
     "output_type": "stream",
     "text": [
      "[1 2 3 4 5 6]\n"
     ]
    }
   ],
   "source": [
    "## Merging two arrays \n",
    "arr1 = np.array([1,2,3])\n",
    "arr2 = np.array([4,5,6])\n",
    "\n",
    "combined = np.concatenate((arr1, arr2))\n",
    "print(combined)"
   ]
  },
  {
   "cell_type": "markdown",
   "id": "5d247ff9",
   "metadata": {},
   "source": [
    "### Array Compatibilty "
   ]
  },
  {
   "cell_type": "code",
   "execution_count": 28,
   "id": "988dcdb8",
   "metadata": {},
   "outputs": [
    {
     "name": "stdout",
     "output_type": "stream",
     "text": [
      "Compatibilty Shapes :  True\n"
     ]
    }
   ],
   "source": [
    "a = np.array([1,2,3])\n",
    "b = np.array([4,5,6])\n",
    "c = np.array([7,8,9])\n",
    "\n",
    "#### VERY IMPORTANT CODE \n",
    "\n",
    "print(\"Compatibilty Shapes : \",a.shape == b.shape)"
   ]
  },
  {
   "cell_type": "markdown",
   "id": "5b9ca296",
   "metadata": {},
   "source": [
    "### Adding Rows and Columns \n"
   ]
  },
  {
   "cell_type": "code",
   "execution_count": 32,
   "id": "7727b109",
   "metadata": {},
   "outputs": [
    {
     "name": "stdout",
     "output_type": "stream",
     "text": [
      "[[1 2 3]\n",
      " [4 5 6]]\n",
      "[[1 2 3]\n",
      " [4 5 6]\n",
      " [7 8 9]]\n",
      "[[1 2 3]\n",
      " [4 5 6]]\n",
      "[[ 1  2  3 32]\n",
      " [ 4  5  6 43]]\n"
     ]
    }
   ],
   "source": [
    "original = np.array([[1,2,3],[4,5,6]])\n",
    "new_row = np.array([7,8,9])\n",
    "\n",
    "with_new_row = np.vstack((original, new_row))  ## vstack adds a new row\n",
    "print(original)\n",
    "print(with_new_row)\n",
    "\n",
    "new_col = np.array([[32],[43]])\n",
    "with_new_col = np.hstack((original, new_col))\n",
    "print(original)\n",
    "print(with_new_col)"
   ]
  },
  {
   "cell_type": "markdown",
   "id": "2012023d",
   "metadata": {},
   "source": [
    "## Deleting Elements (Take care of Indexing)"
   ]
  },
  {
   "cell_type": "code",
   "execution_count": 34,
   "id": "40a6c2c1",
   "metadata": {},
   "outputs": [
    {
     "name": "stdout",
     "output_type": "stream",
     "text": [
      "Array after deletion :  [1 2 4 5]\n"
     ]
    }
   ],
   "source": [
    "arr = np.array([1,2,3,4,5])\n",
    "deleted = np.delete(arr, 2)\n",
    "print(\"Array after deletion : \",deleted)"
   ]
  }
 ],
 "metadata": {
  "kernelspec": {
   "display_name": "Python 3",
   "language": "python",
   "name": "python3"
  },
  "language_info": {
   "codemirror_mode": {
    "name": "ipython",
    "version": 3
   },
   "file_extension": ".py",
   "mimetype": "text/x-python",
   "name": "python",
   "nbconvert_exporter": "python",
   "pygments_lexer": "ipython3",
   "version": "3.11.1"
  }
 },
 "nbformat": 4,
 "nbformat_minor": 5
}
